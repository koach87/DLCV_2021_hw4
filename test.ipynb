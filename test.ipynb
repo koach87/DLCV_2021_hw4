{
 "cells": [
  {
   "cell_type": "code",
   "execution_count": 1,
   "metadata": {},
   "outputs": [],
   "source": [
    "import os\n",
    "import sys\n",
    "import argparse\n",
    "\n",
    "import torch\n",
    "import torch.nn as nn\n",
    "import torchvision\n",
    "import torchvision.transforms as transforms\n",
    "from torch.utils.data import DataLoader, Dataset\n",
    "from torch.utils.data.sampler import Sampler\n",
    "\n",
    "import csv\n",
    "import random\n",
    "import numpy as np\n",
    "import pandas as pd"
   ]
  },
  {
   "cell_type": "code",
   "execution_count": 2,
   "metadata": {},
   "outputs": [],
   "source": [
    "from PIL import Image\n",
    "filenameToPILImage = lambda x: Image.open(x)"
   ]
  },
  {
   "cell_type": "code",
   "execution_count": 3,
   "metadata": {},
   "outputs": [],
   "source": [
    "# fix random seeds for reproducibility\n",
    "SEED = 123\n",
    "torch.manual_seed(SEED)\n",
    "torch.backends.cudnn.deterministic = True\n",
    "torch.backends.cudnn.benchmark = False\n",
    "random.seed(SEED)\n",
    "np.random.seed(SEED)\n",
    "def worker_init_fn(worker_id):                                                          \n",
    "    np.random.seed(np.random.get_state()[1][0] + worker_id)"
   ]
  },
  {
   "cell_type": "code",
   "execution_count": 4,
   "metadata": {},
   "outputs": [],
   "source": [
    "\n",
    "# mini-Imagenet dataset\n",
    "class MiniDataset(Dataset):\n",
    "    def __init__(self, csv_path, data_dir):\n",
    "        self.data_dir = data_dir\n",
    "        self.data_df = pd.read_csv(csv_path).set_index(\"id\")\n",
    "\n",
    "        self.transform = transforms.Compose([\n",
    "            filenameToPILImage,\n",
    "            transforms.ToTensor(),\n",
    "            transforms.Normalize([0.485, 0.456, 0.406], [0.229, 0.224, 0.225])\n",
    "            ])\n",
    "\n",
    "    def __getitem__(self, index):\n",
    "        path = self.data_df.loc[index, \"filename\"]\n",
    "        label = self.data_df.loc[index, \"label\"]\n",
    "        image = self.transform(os.path.join(self.data_dir, path))\n",
    "        return image, label\n",
    "\n",
    "    def __len__(self):\n",
    "        return len(self.data_df)\n",
    "\n",
    "class GeneratorSampler(Sampler):\n",
    "    def __init__(self, episode_file_path):\n",
    "        episode_df = pd.read_csv(episode_file_path).set_index(\"episode_id\")\n",
    "        self.sampled_sequence = episode_df.values.flatten().tolist()\n",
    "\n",
    "    def __iter__(self):\n",
    "        return iter(self.sampled_sequence) \n",
    "\n",
    "    def __len__(self):\n",
    "        return len(self.sampled_sequence)\n"
   ]
  },
  {
   "cell_type": "code",
   "execution_count": 5,
   "metadata": {},
   "outputs": [],
   "source": [
    "test_dataset = MiniDataset('hw4_data\\mini\\\\val.csv', 'hw4_data\\mini\\\\val')\n",
    "test_loader = DataLoader(\n",
    "        test_dataset, batch_size=5 * (15+ 1),\n",
    "        pin_memory=False, worker_init_fn=worker_init_fn,\n",
    "        sampler=GeneratorSampler('hw4_data\\mini\\\\val_testcase.csv'))\n"
   ]
  },
  {
   "cell_type": "code",
   "execution_count": 6,
   "metadata": {},
   "outputs": [
    {
     "data": {
      "text/plain": [
       "600"
      ]
     },
     "execution_count": 6,
     "metadata": {},
     "output_type": "execute_result"
    }
   ],
   "source": [
    "len(test_loader)"
   ]
  },
  {
   "cell_type": "code",
   "execution_count": 11,
   "metadata": {},
   "outputs": [
    {
     "name": "stdout",
     "output_type": "stream",
     "text": [
      "('n03535780', 'n03535780', 'n01855672', 'n02981792', 'n02981792', 'n02950826', 'n02174001', 'n01855672', 'n02981792', 'n02174001', 'n02174001', 'n01855672', 'n01855672', 'n02174001', 'n02950826', 'n03535780', 'n02174001', 'n02950826', 'n03535780', 'n02981792', 'n02950826', 'n02174001', 'n01855672', 'n03535780', 'n01855672', 'n02174001', 'n01855672', 'n01855672', 'n03535780', 'n02950826', 'n01855672', 'n03535780', 'n02950826', 'n02950826', 'n03535780', 'n02174001', 'n02174001', 'n01855672', 'n03535780', 'n02981792', 'n02950826', 'n02981792', 'n02950826', 'n02981792', 'n02950826', 'n03535780', 'n01855672', 'n02950826', 'n01855672', 'n02950826', 'n03535780', 'n02174001', 'n02981792', 'n01855672', 'n03535780', 'n02981792', 'n02981792', 'n03535780', 'n02174001', 'n02950826', 'n02174001', 'n03535780', 'n02981792', 'n03535780', 'n02950826', 'n02174001', 'n02174001', 'n01855672', 'n02981792', 'n02981792', 'n02950826', 'n01855672', 'n02981792', 'n02174001', 'n02981792')\n",
      "{'n02981792': 0, 'n03535780': 1, 'n02174001': 2, 'n01855672': 3, 'n02950826': 4}\n",
      "tensor([1, 1, 3, 0, 0, 4, 2, 3, 0, 2, 2, 3, 3, 2, 4, 1, 2, 4, 1, 0, 4, 2, 3, 1,\n",
      "        3, 2, 3, 3, 1, 4, 3, 1, 4, 4, 1, 2, 2, 3, 1, 0, 4, 0, 4, 0, 4, 1, 3, 4,\n",
      "        3, 4, 1, 2, 0, 3, 1, 0, 0, 1, 2, 4, 2, 1, 0, 1, 4, 2, 2, 3, 0, 0, 4, 3,\n",
      "        0, 2, 0], device='cuda:0')\n"
     ]
    }
   ],
   "source": [
    "for i, (data, target) in enumerate(test_loader):\n",
    "    if(i==1):break\n",
    "    # split data into support and query data\n",
    "    support_input = data[:5 * 1,:,:,:] \n",
    "    query_input   = data[5 * 1:,:,:,:]\n",
    "\n",
    "    # create the relative label (0 ~ N_way-1) for query data\n",
    "    label_encoder = {target[i *1] : i for i in range(5)}\n",
    "    query_label = torch.cuda.LongTensor([label_encoder[class_name] for class_name in target[5 * 1:]])\n",
    "    print(target[5:])\n",
    "    print(label_encoder)\n",
    "    print(query_label)"
   ]
  },
  {
   "cell_type": "code",
   "execution_count": 25,
   "metadata": {},
   "outputs": [],
   "source": [
    "a=torch.tensor([12,3,4,5])"
   ]
  },
  {
   "cell_type": "code",
   "execution_count": 27,
   "metadata": {},
   "outputs": [
    {
     "data": {
      "text/plain": [
       "[12, 3, 4, 5]"
      ]
     },
     "execution_count": 27,
     "metadata": {},
     "output_type": "execute_result"
    }
   ],
   "source": [
    "a.to"
   ]
  },
  {
   "cell_type": "code",
   "execution_count": 5,
   "metadata": {},
   "outputs": [],
   "source": [
    "import torch\n",
    "import torch.nn.functional as F"
   ]
  },
  {
   "cell_type": "code",
   "execution_count": 10,
   "metadata": {},
   "outputs": [],
   "source": [
    "a = torch.randn((10,1600))\n",
    "b = torch.randn((1,1600))"
   ]
  },
  {
   "cell_type": "code",
   "execution_count": 12,
   "metadata": {},
   "outputs": [],
   "source": [
    "a = a[0]"
   ]
  },
  {
   "cell_type": "code",
   "execution_count": 13,
   "metadata": {},
   "outputs": [
    {
     "data": {
      "text/plain": [
       "tensor([0.0303])"
      ]
     },
     "execution_count": 13,
     "metadata": {},
     "output_type": "execute_result"
    }
   ],
   "source": [
    "F.cosine_similarity(b,a)"
   ]
  },
  {
   "cell_type": "code",
   "execution_count": null,
   "metadata": {},
   "outputs": [],
   "source": []
  }
 ],
 "metadata": {
  "interpreter": {
   "hash": "06e30d277152b04c77de2258da9de4149228d00c6960d1c62da5d7e3583d03ee"
  },
  "kernelspec": {
   "display_name": "Python 3.8.8 64-bit",
   "language": "python",
   "name": "python3"
  },
  "language_info": {
   "codemirror_mode": {
    "name": "ipython",
    "version": 3
   },
   "file_extension": ".py",
   "mimetype": "text/x-python",
   "name": "python",
   "nbconvert_exporter": "python",
   "pygments_lexer": "ipython3",
   "version": "3.8.8"
  },
  "orig_nbformat": 4
 },
 "nbformat": 4,
 "nbformat_minor": 2
}
